{
 "cells": [
  {
   "cell_type": "code",
   "execution_count": 24,
   "id": "f7070c6c",
   "metadata": {},
   "outputs": [
    {
     "data": {
      "text/html": [
       "<div>\n",
       "<style scoped>\n",
       "    .dataframe tbody tr th:only-of-type {\n",
       "        vertical-align: middle;\n",
       "    }\n",
       "\n",
       "    .dataframe tbody tr th {\n",
       "        vertical-align: top;\n",
       "    }\n",
       "\n",
       "    .dataframe thead th {\n",
       "        text-align: right;\n",
       "    }\n",
       "</style>\n",
       "<table border=\"1\" class=\"dataframe\">\n",
       "  <thead>\n",
       "    <tr style=\"text-align: right;\">\n",
       "      <th></th>\n",
       "      <th>Player</th>\n",
       "      <th>G</th>\n",
       "    </tr>\n",
       "  </thead>\n",
       "  <tbody>\n",
       "    <tr>\n",
       "      <th>0</th>\n",
       "      <td>Quincy Acy</td>\n",
       "      <td>68</td>\n",
       "    </tr>\n",
       "    <tr>\n",
       "      <th>1</th>\n",
       "      <td>Jordan Adams</td>\n",
       "      <td>30</td>\n",
       "    </tr>\n",
       "    <tr>\n",
       "      <th>2</th>\n",
       "      <td>Steven Adams</td>\n",
       "      <td>70</td>\n",
       "    </tr>\n",
       "    <tr>\n",
       "      <th>3</th>\n",
       "      <td>Jeff Adrien</td>\n",
       "      <td>17</td>\n",
       "    </tr>\n",
       "    <tr>\n",
       "      <th>4</th>\n",
       "      <td>Arron Afflalo</td>\n",
       "      <td>78</td>\n",
       "    </tr>\n",
       "    <tr>\n",
       "      <th>5</th>\n",
       "      <td>Arron Afflalo</td>\n",
       "      <td>53</td>\n",
       "    </tr>\n",
       "  </tbody>\n",
       "</table>\n",
       "</div>"
      ],
      "text/plain": [
       "          Player   G\n",
       "0     Quincy Acy  68\n",
       "1   Jordan Adams  30\n",
       "2   Steven Adams  70\n",
       "3    Jeff Adrien  17\n",
       "4  Arron Afflalo  78\n",
       "5  Arron Afflalo  53"
      ]
     },
     "execution_count": 24,
     "metadata": {},
     "output_type": "execute_result"
    }
   ],
   "source": [
    "'''Q1. List any five functions of the pandas library with execution.\n",
    "\n",
    "1. df.drop() : Drops rows or columns from dataframe.\n",
    "2. df.fillna() : Fills missing values in dataframe.\n",
    "3. df.groupby() : Groups the rows of the dataframe by one or more columns.\n",
    "                  and performs operation.\n",
    "4. df.sort_values() : Sorts the rows of the dataframe by one or more columns.\n",
    "5. df.loc() : Used to select rows and columns from a dataframe in a variety of ways.\n",
    "'''\n",
    "\n",
    "import pandas as pd\n",
    "df = pd.read_csv(\"players_data.csv\")\n",
    "df.drop('Pos',axis=1)\n",
    "df.fillna(0)\n",
    "df.groupby('Age')\n",
    "df.sort_values('G')\n",
    "df.loc[0:5,['Player','G']]\n",
    "\n",
    "\n"
   ]
  },
  {
   "cell_type": "code",
   "execution_count": 59,
   "id": "c0071216",
   "metadata": {},
   "outputs": [
    {
     "name": "stdout",
     "output_type": "stream",
     "text": [
      "   A   B   C\n",
      "1  1   6  11\n",
      "3  2   7  12\n",
      "5  3   8  13\n",
      "7  4   9  14\n",
      "9  5  10  15\n"
     ]
    }
   ],
   "source": [
    "'''Q2. Given a Pandas DataFrame df with columns 'A', 'B', and 'C', write a Python function to re-index the\n",
    "DataFrame with a new index that starts from 1 and increments by 2 for each row.'''\n",
    "\n",
    "import pandas as pd\n",
    "\n",
    "def re_index_df_with_step_of_2(df):\n",
    "\n",
    "    new_index = pd.RangeIndex(start=1, stop=2*len(df), step=2)\n",
    "\n",
    "    re_indexed_df = df.set_index(new_index)\n",
    "\n",
    "    return re_indexed_df\n",
    "\n",
    "\n",
    "\n",
    "\n",
    "df = pd.DataFrame({'A': [1, 2, 3, 4, 5], 'B': [6, 7, 8, 9, 10], 'C': [11, 12, 13, 14, 15]})\n",
    "re_indexed_df = re_index_df_with_step_of_2(df)\n",
    "\n",
    "\n",
    "print(re_indexed_df)\n",
    "\n",
    "\n"
   ]
  },
  {
   "cell_type": "code",
   "execution_count": null,
   "id": "5fc55ace",
   "metadata": {},
   "outputs": [],
   "source": [
    "'''Q3. You have a Pandas DataFrame df with a column named 'Values'. Write a Python function that\n",
    "iterates over the DataFrame and calculates the sum of the first three values in the 'Values' column. The\n",
    "function should print the sum to the console.'''"
   ]
  },
  {
   "cell_type": "code",
   "execution_count": 82,
   "id": "befaeb98",
   "metadata": {},
   "outputs": [
    {
     "data": {
      "text/plain": [
       "60"
      ]
     },
     "execution_count": 82,
     "metadata": {},
     "output_type": "execute_result"
    }
   ],
   "source": [
    "df = pd.DataFrame({'A':[1,2,3,4,5]})\n",
    "df['Values'] = [10, 20, 30, 40, 50]\n",
    "def sum_fun(df):\n",
    "    return df['Values'][:3].sum()\n",
    "sum_fun(df)"
   ]
  },
  {
   "cell_type": "code",
   "execution_count": 3,
   "id": "f528ad32",
   "metadata": {},
   "outputs": [
    {
     "name": "stdout",
     "output_type": "stream",
     "text": [
      "                        Text  Word_Count\n",
      "0        This is a sentence.           4\n",
      "1  This is another sentence.           4\n"
     ]
    }
   ],
   "source": [
    "'''Q4. Given a Pandas DataFrame df with a column 'Text', write a Python function to create a new column\n",
    "'Word_Count' that contains the number of words in each row of the 'Text' column.'''\n",
    "import pandas as pd\n",
    "def create_word_count_column(df):\n",
    "  df['Word_Count'] = df['Text'].apply(lambda x: len(str(x).split()))\n",
    "  return df\n",
    "\n",
    "df = pd.DataFrame({\n",
    "  'Text': ['This is a sentence.', 'This is another sentence.']\n",
    "})\n",
    "df = create_word_count_column(df)\n",
    "print(df)\n"
   ]
  },
  {
   "cell_type": "code",
   "execution_count": 4,
   "id": "7b029254",
   "metadata": {},
   "outputs": [
    {
     "data": {
      "text/plain": [
       "'Q5. How are DataFrame.size() and DataFrame.shape() different?\\n\\nThe main difference between DataFrame.size() and DataFrame.shape() is that DataFrame.size() return total number of \\nelements in the dataframe while DataFrame.shape() return tuple containing the number of rows and columns in the \\nDataframe.'"
      ]
     },
     "execution_count": 4,
     "metadata": {},
     "output_type": "execute_result"
    }
   ],
   "source": [
    "'''Q5. How are DataFrame.size() and DataFrame.shape() different?\n",
    "\n",
    "The main difference between DataFrame.size() and DataFrame.shape() is that DataFrame.size() return total number of \n",
    "elements in the dataframe while DataFrame.shape() return tuple containing the number of rows and columns in the \n",
    "Dataframe.'''"
   ]
  },
  {
   "cell_type": "code",
   "execution_count": 5,
   "id": "d2e0e8ec",
   "metadata": {},
   "outputs": [
    {
     "data": {
      "text/plain": [
       "'Q6. Which function of pandas do we use to read an excel file?\\n\\nIn pandas to read an excel file we use \\'pandas.read_excel(\"New_file.xlsx\")\\' function.\\n'"
      ]
     },
     "execution_count": 5,
     "metadata": {},
     "output_type": "execute_result"
    }
   ],
   "source": [
    "'''Q6. Which function of pandas do we use to read an excel file?\n",
    "\n",
    "In pandas to read an excel file we use 'pandas.read_excel(\"New_file.xlsx\")' function.\n",
    "'''"
   ]
  },
  {
   "cell_type": "code",
   "execution_count": 11,
   "id": "68d7ebd8",
   "metadata": {},
   "outputs": [
    {
     "data": {
      "text/html": [
       "<div>\n",
       "<style scoped>\n",
       "    .dataframe tbody tr th:only-of-type {\n",
       "        vertical-align: middle;\n",
       "    }\n",
       "\n",
       "    .dataframe tbody tr th {\n",
       "        vertical-align: top;\n",
       "    }\n",
       "\n",
       "    .dataframe thead th {\n",
       "        text-align: right;\n",
       "    }\n",
       "</style>\n",
       "<table border=\"1\" class=\"dataframe\">\n",
       "  <thead>\n",
       "    <tr style=\"text-align: right;\">\n",
       "      <th></th>\n",
       "      <th>Email</th>\n",
       "      <th>Username</th>\n",
       "    </tr>\n",
       "  </thead>\n",
       "  <tbody>\n",
       "    <tr>\n",
       "      <th>0</th>\n",
       "      <td>Krushna@gmail.com</td>\n",
       "      <td>Krushna</td>\n",
       "    </tr>\n",
       "    <tr>\n",
       "      <th>1</th>\n",
       "      <td>devkar23@gmail.com</td>\n",
       "      <td>devkar23</td>\n",
       "    </tr>\n",
       "  </tbody>\n",
       "</table>\n",
       "</div>"
      ],
      "text/plain": [
       "                Email  Username\n",
       "0   Krushna@gmail.com   Krushna\n",
       "1  devkar23@gmail.com  devkar23"
      ]
     },
     "execution_count": 11,
     "metadata": {},
     "output_type": "execute_result"
    }
   ],
   "source": [
    "'''Q7. You have a Pandas DataFrame df that contains a column named 'Email' that contains email\n",
    "addresses in the format 'username@domain.com'. Write a Python function that creates a new column\n",
    "'Username' in df that contains only the username part of each email address.'''\n",
    "import pandas as pd\n",
    "import re\n",
    "def extract_username(email):\n",
    "    u_name = re.search(r'^(.*?)@',email)\n",
    "    \n",
    "    if u_name:\n",
    "        return u_name.group(1)\n",
    "    else:\n",
    "        return none\n",
    "def create_username_col(df):\n",
    "    df['Username'] = df['Email'].apply(extract_username)\n",
    "    return df\n",
    "\n",
    "df = pd.DataFrame({'Email':['Krushna@gmail.com','devkar23@gmail.com']})\n",
    "df1 = create_username_col(df)\n",
    "df1"
   ]
  },
  {
   "cell_type": "code",
   "execution_count": 17,
   "id": "01550f31",
   "metadata": {},
   "outputs": [
    {
     "name": "stdout",
     "output_type": "stream",
     "text": [
      "   A  B  C\n",
      "1  8  2  7\n",
      "2  6  9  4\n",
      "4  9  1  2\n"
     ]
    }
   ],
   "source": [
    "'''Q8. You have a Pandas DataFrame df with columns 'A', 'B', and 'C'. Write a Python function that selects\n",
    "all rows where the value in column 'A' is greater than 5 and the value in column 'B' is less than 10. The\n",
    "function should return a new DataFrame that contains only the selected rows.\n",
    "For example, if df contains the following values:\n",
    "\n",
    "A B C\n",
    "0 3 5 1\n",
    "1 8 2 7\n",
    "2 6 9 4\n",
    "3 2 3 5\n",
    "4 9 1 2\n",
    "\n",
    "Your function should select the following rows: A B C\n",
    "1 8 2 7\n",
    "4 9 1 2\n",
    "The function should return a new DataFrame that contains only the selected rows.\n",
    "'''\n",
    "\n",
    "import pandas as pd\n",
    "\n",
    "def new_df(df):\n",
    "    n_df = df[(df['A']>5) & (df['B']<10)]\n",
    "    \n",
    "    return n_df\n",
    "\n",
    "df = pd.DataFrame({'A':[3,8,6,2,9],'B':[5,2,9,3,1],'C':[1,7,4,5,2]})\n",
    "\n",
    "new_dataframe = new_df(df)\n",
    "\n",
    "print(new_dataframe)"
   ]
  },
  {
   "cell_type": "code",
   "execution_count": 24,
   "id": "f654a5b9",
   "metadata": {},
   "outputs": [
    {
     "name": "stdout",
     "output_type": "stream",
     "text": [
      "mean    5.50000\n",
      "50%     5.50000\n",
      "std     3.02765\n",
      "Name: values, dtype: float64\n"
     ]
    }
   ],
   "source": [
    "'''Q9. Given a Pandas DataFrame df with a column 'Values', write a Python function to calculate the mean,\n",
    "median, and standard deviation of the values in the 'Values' column.'''\n",
    "\n",
    "def stats(df):\n",
    "    return df['values'].describe().loc[['mean','50%','std']]\n",
    "\n",
    "df = pd.DataFrame({'values':[1,2,3,4,5,6,7,8,9,10]})\n",
    "\n",
    "new_stats = stats(df)\n",
    "print(new_stats)\n"
   ]
  },
  {
   "cell_type": "code",
   "execution_count": 26,
   "id": "bb59fd63",
   "metadata": {},
   "outputs": [
    {
     "name": "stdout",
     "output_type": "stream",
     "text": [
      "         Date  Sales  MovingAverage\n",
      "0  2023-08-08    100            NaN\n",
      "1  2023-08-09    120            NaN\n",
      "2  2023-08-10    130            NaN\n",
      "3  2023-08-11    140            NaN\n",
      "4  2023-08-12    150            NaN\n"
     ]
    }
   ],
   "source": [
    "'''Q10. Given a Pandas DataFrame df with a column 'Sales' and a column 'Date', write a Python function to\n",
    "create a new column 'MovingAverage' that contains the moving average of the sales for the past 7 days\n",
    "for each row in the DataFrame. The moving average should be calculated using a window of size 7 and\n",
    "should include the current day.'''\n",
    "\n",
    "def create_moving_avg(df,column_name,window_size):\n",
    "    df['MovingAverage']  = df[column_name].rolling(window_size).mean()\n",
    "    return df\n",
    "\n",
    "df = pd.DataFrame({'Date': ['2023-08-08', '2023-08-09', '2023-08-10', '2023-08-11', '2023-08-12'],\n",
    "                   'Sales': [100, 120, 130, 140, 150]})\n",
    "\n",
    "create_ma = create_moving_avg(df,'Sales',window_size=7)\n",
    "\n",
    "print(create_ma)"
   ]
  },
  {
   "cell_type": "code",
   "execution_count": 41,
   "id": "856826c3",
   "metadata": {},
   "outputs": [
    {
     "name": "stdout",
     "output_type": "stream",
     "text": [
      "        date    daytime\n",
      "0 2023-01-01     Sunday\n",
      "1 2023-01-02     Monday\n",
      "2 2023-01-03    Tuesday\n",
      "3 2023-01-04  Wednesday\n",
      "4 2023-01-05   Thursday\n"
     ]
    }
   ],
   "source": [
    "'''Q11. You have a Pandas DataFrame df with a column 'Date'. Write a Python function that creates a new\n",
    "column 'Weekday' in the DataFrame. The 'Weekday' column should contain the weekday name (e.g.\n",
    "Monday, Tuesday) corresponding to each date in the 'Date' column.\n",
    "For example, if df contains the following values:\n",
    "Date\n",
    "0 2023-01-01\n",
    "1 2023-01-02\n",
    "2 2023-01-03\n",
    "3 2023-01-04\n",
    "4 2023-01-05\n",
    "Your function should create the following DataFrame:\n",
    "\n",
    "Date Weekday\n",
    "0 2023-01-01 Sunday\n",
    "1 2023-01-02 Monday\n",
    "2 2023-01-03 Tuesday\n",
    "3 2023-01-04 Wednesday\n",
    "4 2023-01-05 Thursday\n",
    "The function should return the modified DataFrame.'''\n",
    "import pandas as pd\n",
    "df = pd.DataFrame({'date':['2023-01-01','2023-01-02','2023-01-03','2023-01-04','2023-01-05']})\n",
    "\n",
    "def day_name(df):\n",
    "    \n",
    "    df['date'] = pd.to_datetime(df['date'])\n",
    "\n",
    "    df['daytime'] = df['date'].dt.day_name()\n",
    "\n",
    "    return df\n",
    "\n",
    "week_df = day_name(df)\n",
    "print(week_df)"
   ]
  },
  {
   "cell_type": "code",
   "execution_count": 43,
   "id": "88a31bda",
   "metadata": {},
   "outputs": [
    {
     "data": {
      "text/html": [
       "<div>\n",
       "<style scoped>\n",
       "    .dataframe tbody tr th:only-of-type {\n",
       "        vertical-align: middle;\n",
       "    }\n",
       "\n",
       "    .dataframe tbody tr th {\n",
       "        vertical-align: top;\n",
       "    }\n",
       "\n",
       "    .dataframe thead th {\n",
       "        text-align: right;\n",
       "    }\n",
       "</style>\n",
       "<table border=\"1\" class=\"dataframe\">\n",
       "  <thead>\n",
       "    <tr style=\"text-align: right;\">\n",
       "      <th></th>\n",
       "      <th>Date</th>\n",
       "      <th>Sales</th>\n",
       "    </tr>\n",
       "  </thead>\n",
       "  <tbody>\n",
       "    <tr>\n",
       "      <th>0</th>\n",
       "      <td>2023-01-02</td>\n",
       "      <td>100</td>\n",
       "    </tr>\n",
       "    <tr>\n",
       "      <th>1</th>\n",
       "      <td>2023-01-09</td>\n",
       "      <td>120</td>\n",
       "    </tr>\n",
       "    <tr>\n",
       "      <th>2</th>\n",
       "      <td>2023-01-10</td>\n",
       "      <td>130</td>\n",
       "    </tr>\n",
       "    <tr>\n",
       "      <th>3</th>\n",
       "      <td>2023-01-11</td>\n",
       "      <td>140</td>\n",
       "    </tr>\n",
       "    <tr>\n",
       "      <th>4</th>\n",
       "      <td>2023-01-12</td>\n",
       "      <td>150</td>\n",
       "    </tr>\n",
       "  </tbody>\n",
       "</table>\n",
       "</div>"
      ],
      "text/plain": [
       "        Date  Sales\n",
       "0 2023-01-02    100\n",
       "1 2023-01-09    120\n",
       "2 2023-01-10    130\n",
       "3 2023-01-11    140\n",
       "4 2023-01-12    150"
      ]
     },
     "execution_count": 43,
     "metadata": {},
     "output_type": "execute_result"
    }
   ],
   "source": [
    "'''Q12. Given a Pandas DataFrame df with a column 'Date' that contains timestamps, write a Python\n",
    "function to select all rows where the date is between '2023-01-01' and '2023-01-31'.'''\n",
    "\n",
    "\n",
    "import pandas as pd\n",
    "\n",
    "def date_between(df):\n",
    "    \n",
    "    df['Date'] = pd.to_datetime(df['Date'])\n",
    "    df_filtered = df.query('Date >= \"2023-01-01\" and Date <= \"2023-01-31\"')\n",
    "\n",
    "    return df_filtered\n",
    "\n",
    "\n",
    "df = pd.DataFrame({'Date': ['2023-01-02', '2023-01-09', '2023-01-10', '2023-01-11', '2023-01-12'],\n",
    "                   'Sales': [100, 120, 130, 140, 150]})\n",
    "\n",
    "filtered_data = date_between(df)\n",
    "filtered_data"
   ]
  },
  {
   "cell_type": "code",
   "execution_count": 45,
   "id": "981cb617",
   "metadata": {},
   "outputs": [
    {
     "data": {
      "text/plain": [
       "'Q13. To use the basic functions of pandas, what is the first and foremost necessary library that needs to\\nbe imported?\\n\\nThe first and foremost necessary library that needs to be imported to use the basic functions of Pandas \\nis the pandas library. This library provides a wide range of functions for data analysis and manipulation in Python\\n'"
      ]
     },
     "execution_count": 45,
     "metadata": {},
     "output_type": "execute_result"
    }
   ],
   "source": [
    "'''Q13. To use the basic functions of pandas, what is the first and foremost necessary library that needs to\n",
    "be imported?\n",
    "\n",
    "The first and foremost necessary library that needs to be imported to use the basic functions of Pandas \n",
    "is the pandas library. This library provides a wide range of functions for data analysis and manipulation in Python\n",
    "'''"
   ]
  },
  {
   "cell_type": "code",
   "execution_count": null,
   "id": "6db03c14",
   "metadata": {},
   "outputs": [],
   "source": []
  }
 ],
 "metadata": {
  "kernelspec": {
   "display_name": "Python 3 (ipykernel)",
   "language": "python",
   "name": "python3"
  },
  "language_info": {
   "codemirror_mode": {
    "name": "ipython",
    "version": 3
   },
   "file_extension": ".py",
   "mimetype": "text/x-python",
   "name": "python",
   "nbconvert_exporter": "python",
   "pygments_lexer": "ipython3",
   "version": "3.10.9"
  }
 },
 "nbformat": 4,
 "nbformat_minor": 5
}
